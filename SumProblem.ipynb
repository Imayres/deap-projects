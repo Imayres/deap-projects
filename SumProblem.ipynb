{
 "cells": [
  {
   "cell_type": "markdown",
   "metadata": {},
   "source": [
    "# Sum Problem\n",
    "Very simple problem, the aim is to get a list of 5 numbers that sum up to 15. Possible solutions would be `[3, 3, 3, 3, 3], [10, 5, 0, 0, 0], [1, 2, 3, 4, 5]`. \n",
    "\n",
    "First, let's define our fitness function. I used `-1.0` for `weights` which means that I am going to use minimizing fitness. Therefore, when it comes to breeding, the algorithm will choose individuals with the least fitness. `\"FitnessMin\"` is just a name for the function (like a variable name, is is up to you how to call it).\n",
    "\n",
    "Then, I am going to define an individual. The second argument is the base class that the new type created should inherit from (in this case, I will use a list to store numbers). Also, we provide our fitness function. `\"Individual\"` is just a name for the function (like a variable name, is is up to you how to call it)."
   ]
  },
  {
   "cell_type": "code",
   "execution_count": 75,
   "metadata": {},
   "outputs": [
    {
     "name": "stderr",
     "output_type": "stream",
     "text": [
      "C:\\Users\\AGorp\\Anaconda3\\lib\\site-packages\\deap\\creator.py:141: RuntimeWarning: A class named 'FitnessMin' has already been created and it will be overwritten. Consider deleting previous creation of that class or rename it.\n",
      "  RuntimeWarning)\n",
      "C:\\Users\\AGorp\\Anaconda3\\lib\\site-packages\\deap\\creator.py:141: RuntimeWarning: A class named 'Individual' has already been created and it will be overwritten. Consider deleting previous creation of that class or rename it.\n",
      "  RuntimeWarning)\n"
     ]
    }
   ],
   "source": [
    "import random\n",
    "from deap import base, creator, tools, algorithms\n",
    "\n",
    "sum_up_to = 15 # the number that individuals have to sum up to\n",
    "list_len = 5 # length of individuals\n",
    "trn_size = 5 # the number of individuals participating in each tournament\n",
    "mutate_prob = 0.10 # for mutation algorithm (probability of each attribute to be moved)\n",
    "\n",
    "creator.create(\"FitnessMin\", base.Fitness, weights=(-1.0,))\n",
    "creator.create(\"Individual\", list, fitness=creator.FitnessMin)"
   ]
  },
  {
   "cell_type": "markdown",
   "metadata": {},
   "source": [
    "## Toolbox\n",
    "\n",
    "The first line simply creates a toolbox.\n",
    "\n",
    "The second line is going to determine how the values for individuals will be generated. In this example, I want integers from 0 to 20, hence, my generating function is `random.randint, 0, 20`. `\"attr_int\"` is just a name for the function (like a variable name, it is up to you how to call it).\n",
    "\n",
    "The third line, when called, will fill an individual with what is produced by `n` calls to the previously defined `attr_int` function. We also have to pass the individual function as well as generating function. Again, the first argument is just a name. \n",
    "\n",
    "The 4th line determines the underlying type for the population. Let it be a list. Since we passed individual from `creator` to toolbox on the 3rd line, we can take it from `toolbox` now. The first argument is what ? You know already."
   ]
  },
  {
   "cell_type": "code",
   "execution_count": 76,
   "metadata": {
    "collapsed": true
   },
   "outputs": [],
   "source": [
    "toolbox = base.Toolbox()\n",
    "toolbox.register(\"attr_int\", random.randint, 0, 20)\n",
    "toolbox.register(\"individual\", tools.initRepeat, creator.Individual, toolbox.attr_int, n=list_len)\n",
    "toolbox.register(\"population\", tools.initRepeat, list, toolbox.individual)"
   ]
  },
  {
   "cell_type": "markdown",
   "metadata": {},
   "source": [
    "## It is time to check\n",
    "\n",
    "Even though it was not a lot of code, all these lines are very critical to the application. Hence, it is important to check if everything works as expected. Let's create a random individual (line 1) and random population (line 2) and see if they look as expected."
   ]
  },
  {
   "cell_type": "code",
   "execution_count": 77,
   "metadata": {},
   "outputs": [
    {
     "name": "stdout",
     "output_type": "stream",
     "text": [
      "ind is of type <class 'deap.creator.Individual'> and contains 5 bits\n",
      "[16, 14, 18, 8, 9]\n",
      "pop is of type <class 'list'> and contains 3 individuals\n",
      "[[2, 9, 16, 7, 9], [5, 18, 12, 2, 8], [4, 4, 1, 7, 18]]\n"
     ]
    }
   ],
   "source": [
    "ind = toolbox.individual()\n",
    "pop = toolbox.population(n=3)\n",
    "\n",
    "print(\"ind is of type %s and contains %d bits\\n%s\" % (type(ind), len(ind), ind))\n",
    "print(\"pop is of type %s and contains %d individuals\\n%s\" % (type(pop), len(pop), pop))"
   ]
  },
  {
   "cell_type": "markdown",
   "metadata": {},
   "source": [
    "## Evaluation/fintess function \n",
    "\n",
    "Okay, so the next step is to define the evaluation function. It is going to tell the application how well individuals perform. Keep in mind that in this particular case, smaller fitness is better."
   ]
  },
  {
   "cell_type": "code",
   "execution_count": 78,
   "metadata": {
    "collapsed": true
   },
   "outputs": [],
   "source": [
    "def fitness_func(individual):\n",
    "    return abs(sum_up_to - sum(individual)),"
   ]
  },
  {
   "cell_type": "markdown",
   "metadata": {},
   "source": [
    "## More on toolbox\n",
    "\n",
    "We created our fitness function, now we have to pass it to the toolbox. Line number 1 does exactly that.\n",
    "\n",
    "The two points crossover function is registered the same way under the alias `mate`. [Crossover function on wiki.](  https://en.wikipedia.org/wiki/Crossover_%28genetic_algorithm%29)\n",
    "\n",
    "For mutation, we simply shuffle the attributes of the input individual and return the mutant. The `indpb` argument is the probability of each attribute to be moved. In this case, it is 10% or 0.1.\n",
    "\n",
    "For selection function, I selected Tournament. It selects the best individual among tournsize randomly chosen individuals, k times."
   ]
  },
  {
   "cell_type": "code",
   "execution_count": 79,
   "metadata": {},
   "outputs": [],
   "source": [
    "toolbox.register(\"evaluate\", fitness_func)\n",
    "toolbox.register(\"mate\", tools.cxTwoPoint)\n",
    "toolbox.register(\"mutate\", tools.mutShuffleIndexes, indpb=mutate_prob)\n",
    "toolbox.register(\"select\", tools.selTournament, tournsize=trn_size)"
   ]
  },
  {
   "cell_type": "markdown",
   "metadata": {},
   "source": [
    "## Time to run\n",
    "\n",
    "Looks like we've got everything we need, the next step is to simulate natural selection. \n",
    "\n",
    "First, we have to generate a population, where `n` is the size of population (number of individuals). Hall of fame keeps track of the best individuals that ever appeared during the evolution. The statistics are computed using `numpy` functions on the population and used later to visualize the results. Once the evolution is finished the population contains the individuals from the last generation.\n",
    "\n",
    "`cxpb` – The probability that an offspring is produced by crossover.\n",
    "\n",
    "`mutpb` – The probability that an offspring is produced by mutation.\n",
    "\n",
    "`ngen` - Number of generations.\n",
    "\n",
    "`verbose` – Whether or not to log the statistics."
   ]
  },
  {
   "cell_type": "code",
   "execution_count": 80,
   "metadata": {},
   "outputs": [
    {
     "name": "stdout",
     "output_type": "stream",
     "text": [
      "gen\tnevals\tavg  \tmin\tmax\n",
      "0  \t100   \t37.32\t1  \t66 \n",
      "1  \t67    \t22.23\t1  \t44 \n",
      "2  \t60    \t10.66\t0  \t33 \n",
      "3  \t72    \t4.22 \t0  \t17 \n",
      "4  \t68    \t2.64 \t0  \t12 \n",
      "5  \t65    \t2.33 \t0  \t12 \n",
      "6  \t51    \t1.3  \t0  \t11 \n",
      "7  \t58    \t1.26 \t0  \t10 \n",
      "8  \t53    \t0.86 \t0  \t11 \n",
      "9  \t65    \t2.6  \t0  \t11 \n",
      "10 \t62    \t1.06 \t0  \t11 \n",
      "Best 10 individuals are:\n",
      "[1, 11, 1, 2, 0] with fitness: (0.0,)\n",
      "[11, 2, 1, 1, 0] with fitness: (0.0,)\n",
      "[0, 2, 11, 2, 0] with fitness: (0.0,)\n",
      "[11, 1, 0, 2, 1] with fitness: (0.0,)\n",
      "[1, 1, 11, 2, 0] with fitness: (0.0,)\n",
      "[1, 1, 2, 11, 0] with fitness: (0.0,)\n",
      "[1, 0, 2, 11, 1] with fitness: (0.0,)\n",
      "[0, 2, 0, 2, 11] with fitness: (0.0,)\n",
      "[4, 4, 0, 7, 0] with fitness: (0.0,)\n",
      "[11, 1, 1, 2, 0] with fitness: (0.0,)\n"
     ]
    }
   ],
   "source": [
    "import numpy\n",
    "\n",
    "number_of_generations = 10\n",
    "crossover_prob = 0.5\n",
    "mut_prob = 0.2\n",
    "\n",
    "pop = toolbox.population(n=100)\n",
    "hof = tools.HallOfFame(10)\n",
    "stats = tools.Statistics(lambda ind: ind.fitness.values)\n",
    "stats.register(\"avg\", numpy.mean)\n",
    "stats.register(\"min\", numpy.min)\n",
    "stats.register(\"max\", numpy.max)\n",
    "\n",
    "pop, logbook = algorithms.eaSimple(pop, toolbox, cxpb=crossover_prob, mutpb=mut_prob, ngen=number_of_generations, stats=stats, halloffame=hof, verbose=True)\n",
    "\n",
    "print(\"Best 10 individuals are:\")\n",
    "for item in hof:\n",
    "    print(\"%s with fitness: %s\" % (item, item.fitness))"
   ]
  },
  {
   "cell_type": "markdown",
   "metadata": {},
   "source": [
    "## Plot fitness\n",
    "\n",
    "If you like, you can plot fitness over generations to see how the program improves over time."
   ]
  },
  {
   "cell_type": "code",
   "execution_count": 81,
   "metadata": {},
   "outputs": [
    {
     "data": {
      "image/png": "[encoded data removed]",
      "text/plain": [
       "<matplotlib.figure.Figure at 0x2dc0fa9b4a8>"
      ]
     },
     "metadata": {},
     "output_type": "display_data"
    }
   ],
   "source": [
    "import matplotlib.pyplot as plt\n",
    "gen, avg, min_, max_ = logbook.select(\"gen\", \"avg\", \"min\", \"max\")\n",
    "plt.plot(gen, avg, label=\"average\")\n",
    "plt.plot(gen, min_, label=\"minimum\")\n",
    "plt.plot(gen, max_, label=\"maximum\")\n",
    "plt.xlabel(\"Generation\")\n",
    "plt.ylabel(\"Fitness\")\n",
    "plt.legend(loc=\"lower right\")\n",
    "plt.show()"
   ]
  },
  {
   "cell_type": "markdown",
   "metadata": {},
   "source": [
    "## All code together"
   ]
  },
  {
   "cell_type": "code",
   "execution_count": 82,
   "metadata": {},
   "outputs": [
    {
     "name": "stdout",
     "output_type": "stream",
     "text": [
      "gen\tnevals\tavg  \tmin\tmax\n",
      "0  \t100   \t36.63\t7  \t66 \n",
      "1  \t61    \t21.32\t2  \t47 \n",
      "2  \t49    \t11.54\t0  \t35 \n",
      "3  \t71    \t5.85 \t0  \t20 \n",
      "4  \t60    \t2.58 \t0  \t10 \n",
      "5  \t64    \t2.01 \t0  \t10 \n",
      "6  \t55    \t2.04 \t0  \t10 \n",
      "7  \t59    \t1.77 \t0  \t10 \n",
      "8  \t61    \t1.18 \t0  \t7  \n",
      "9  \t59    \t1.44 \t0  \t16 \n",
      "10 \t58    \t1.72 \t0  \t12 \n",
      "Best 10 individuals are:\n",
      "[3, 12, 0, 0, 0] with fitness: (0.0,)\n",
      "[3, 0, 0, 0, 12] with fitness: (0.0,)\n",
      "[5, 0, 0, 7, 3] with fitness: (0.0,)\n",
      "[5, 0, 7, 0, 3] with fitness: (0.0,)\n",
      "[1, 0, 7, 4, 3] with fitness: (0.0,)\n",
      "[1, 0, 7, 3, 4] with fitness: (0.0,)\n",
      "[5, 1, 0, 9, 0] with fitness: (0.0,)\n",
      "[3, 0, 3, 0, 9] with fitness: (0.0,)\n",
      "[5, 0, 0, 9, 1] with fitness: (0.0,)\n",
      "[9, 3, 0, 0, 3] with fitness: (0.0,)\n"
     ]
    },
    {
     "name": "stderr",
     "output_type": "stream",
     "text": [
      "C:\\Users\\AGorp\\Anaconda3\\lib\\site-packages\\deap\\creator.py:141: RuntimeWarning: A class named 'FitnessMin' has already been created and it will be overwritten. Consider deleting previous creation of that class or rename it.\n",
      "  RuntimeWarning)\n",
      "C:\\Users\\AGorp\\Anaconda3\\lib\\site-packages\\deap\\creator.py:141: RuntimeWarning: A class named 'Individual' has already been created and it will be overwritten. Consider deleting previous creation of that class or rename it.\n",
      "  RuntimeWarning)\n"
     ]
    },
    {
     "data": {
      "image/png": "[encoded data removed]",
      "text/plain": [
       "<matplotlib.figure.Figure at 0x2dc0e88e8d0>"
      ]
     },
     "metadata": {},
     "output_type": "display_data"
    }
   ],
   "source": [
    "import random\n",
    "from deap import base, creator, tools, algorithms\n",
    "import numpy\n",
    "import matplotlib.pyplot as plt\n",
    "\n",
    "def fitness_func(individual):\n",
    "    return abs(sum_up_to - sum(individual)),\n",
    "\n",
    "sum_up_to = 15 # the number that individuals have to sum up to\n",
    "list_len = 5 # length of individuals\n",
    "trn_size = 5 # the number of individuals participating in each tournament\n",
    "mutate_prob = 0.10 # for mutation algorithm (probability of each attribute to be moved)\n",
    "\n",
    "creator.create(\"FitnessMin\", base.Fitness, weights=(-1.0,))\n",
    "creator.create(\"Individual\", list, fitness=creator.FitnessMin)\n",
    "\n",
    "toolbox = base.Toolbox()\n",
    "toolbox.register(\"attr_int\", random.randint, 0, 20)\n",
    "toolbox.register(\"individual\", tools.initRepeat, creator.Individual, toolbox.attr_int, n=list_len)\n",
    "toolbox.register(\"population\", tools.initRepeat, list, toolbox.individual)\n",
    "\n",
    "toolbox.register(\"evaluate\", fitness_func)\n",
    "toolbox.register(\"mate\", tools.cxTwoPoint)\n",
    "toolbox.register(\"mutate\", tools.mutShuffleIndexes, indpb=mutate_prob)\n",
    "toolbox.register(\"select\", tools.selTournament, tournsize=trn_size)\n",
    "\n",
    "number_of_generations = 10\n",
    "crossover_prob = 0.5\n",
    "mut_prob = 0.2\n",
    "\n",
    "pop = toolbox.population(n=100)\n",
    "hof = tools.HallOfFame(10)\n",
    "stats = tools.Statistics(lambda ind: ind.fitness.values)\n",
    "stats.register(\"avg\", numpy.mean)\n",
    "stats.register(\"min\", numpy.min)\n",
    "stats.register(\"max\", numpy.max)\n",
    "\n",
    "pop, logbook = algorithms.eaSimple(pop, toolbox, cxpb=crossover_prob, mutpb=mut_prob, ngen=number_of_generations, stats=stats, halloffame=hof, verbose=True)\n",
    "\n",
    "print(\"Best 10 individuals are:\")\n",
    "for item in hof:\n",
    "    print(\"%s with fitness: %s\" % (item, item.fitness))\n",
    "    \n",
    "gen, avg, min_, max_ = logbook.select(\"gen\", \"avg\", \"min\", \"max\")\n",
    "plt.plot(gen, avg, label=\"average\")\n",
    "plt.plot(gen, min_, label=\"minimum\")\n",
    "plt.plot(gen, max_, label=\"maximum\")\n",
    "plt.xlabel(\"Generation\")\n",
    "plt.ylabel(\"Fitness\")\n",
    "plt.legend(loc=\"lower right\")\n",
    "plt.show()"
   ]
  },
  {
   "cell_type": "code",
   "execution_count": null,
   "metadata": {
    "collapsed": true
   },
   "outputs": [],
   "source": []
  }
 ],
 "metadata": {
  "kernelspec": {
   "display_name": "Python 3",
   "language": "python",
   "name": "python3"
  },
  "language_info": {
   "codemirror_mode": {
    "name": "ipython",
    "version": 3
   },
   "file_extension": ".py",
   "mimetype": "text/x-python",
   "name": "python",
   "nbconvert_exporter": "python",
   "pygments_lexer": "ipython3",
   "version": "3.6.3"
  }
 },
 "nbformat": 4,
 "nbformat_minor": 2
}
